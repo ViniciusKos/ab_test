{
 "cells": [
  {
   "attachments": {},
   "cell_type": "markdown",
   "metadata": {},
   "source": [
    "# 0.0 BUSINESS ISSUE"
   ]
  },
  {
   "cell_type": "raw",
   "metadata": {},
   "source": [
    "A Electronic House é um comercio online ( e-commerce ) de produtos de informática\n",
    "para casas e escritórios. Os clientes podem comprar mouses, monitores, teclados,\n",
    "computadores, laptops, cabos HDMI, fones de ouvido, cameras webcam, entre\n",
    "outros, através de um site online e recebem os produtos no conforto de suas casas.\n",
    "Os produtos não são vendidos somente no Brasil, a Eletronic House está presente\n",
    "em diversos países da Europa e da América do Norte.\n",
    "O Diretor de Produtos Global pediu ao Head de Design que desenvolvesse uma\n",
    "nova forma de finalizar a compra com cartão de crédito, sem a necessidade do\n",
    "cliente preencher manualmente todas as informações do cartão e que funcionasse\n",
    "em todos os países.\n",
    "Depois de meses desenvolvendo esse dispositivo, o time de Desenvolvimento\n",
    "Backend entregou uma solução de pagamentos, na qual 90% das informações do\n",
    "formulário eram preenchido automaticamente.\n",
    "O Head de Designer gostaria de medir a efetividade do novo dispositivo de\n",
    "preenchimento automático dos dados do cartão de crédito na página de vendas e\n",
    "reportar os resultados ao Diretor de Produtos Global, para concluir se a nova forma\n",
    "de pagamento é realmente melhor do que a antiga.\n",
    "As duas páginas foram colocadas no ar e durante alguns meses e o time de Front-\n",
    "End desenvolveu uma automação que atribui um rótulo para cada cliente,\n",
    "mostrando qual a página de vendas aquele determinado cliente estava visualizando.\n",
    "Todos esses dados foram armazenados em um banco\n"
   ]
  },
  {
   "attachments": {},
   "cell_type": "markdown",
   "metadata": {},
   "source": [
    "## 0.1 Outputs:\n",
    "Answer: Yes/No"
   ]
  },
  {
   "cell_type": "raw",
   "metadata": {},
   "source": [
    "## 0.2 Process ( Step by step)\n",
    "- Define group homogeneity criterion\n",
    "- "
   ]
  },
  {
   "attachments": {},
   "cell_type": "markdown",
   "metadata": {},
   "source": [
    "# 1.0 IMPORTS"
   ]
  },
  {
   "attachments": {},
   "cell_type": "markdown",
   "metadata": {},
   "source": [
    "## 1.1 package import"
   ]
  },
  {
   "cell_type": "code",
   "execution_count": null,
   "metadata": {},
   "outputs": [],
   "source": [
    "import pandas as pd\n",
    "import numpy as np\n",
    "from statsmodels.stats import api as sms\n",
    "from scipy.stats import chi2_contingency"
   ]
  },
  {
   "cell_type": "markdown",
   "metadata": {},
   "source": [
    "## 1.2 data import"
   ]
  },
  {
   "cell_type": "code",
   "execution_count": null,
   "metadata": {},
   "outputs": [
    {
     "name": "stdout",
     "output_type": "stream",
     "text": [
      "(45883, 8)\n"
     ]
    },
    {
     "data": {
      "text/html": [
       "<div>\n",
       "<style scoped>\n",
       "    .dataframe tbody tr th:only-of-type {\n",
       "        vertical-align: middle;\n",
       "    }\n",
       "\n",
       "    .dataframe tbody tr th {\n",
       "        vertical-align: top;\n",
       "    }\n",
       "\n",
       "    .dataframe thead th {\n",
       "        text-align: right;\n",
       "    }\n",
       "</style>\n",
       "<table border=\"1\" class=\"dataframe\">\n",
       "  <thead>\n",
       "    <tr style=\"text-align: right;\">\n",
       "      <th></th>\n",
       "      <th>uid</th>\n",
       "      <th>country</th>\n",
       "      <th>gender</th>\n",
       "      <th>spent</th>\n",
       "      <th>purchases</th>\n",
       "      <th>date</th>\n",
       "      <th>group</th>\n",
       "      <th>device</th>\n",
       "    </tr>\n",
       "  </thead>\n",
       "  <tbody>\n",
       "    <tr>\n",
       "      <th>0</th>\n",
       "      <td>11115722</td>\n",
       "      <td>MEX</td>\n",
       "      <td>F</td>\n",
       "      <td>1595</td>\n",
       "      <td>5</td>\n",
       "      <td>2016-03-08</td>\n",
       "      <td>GRP B</td>\n",
       "      <td>I</td>\n",
       "    </tr>\n",
       "    <tr>\n",
       "      <th>1</th>\n",
       "      <td>11122053</td>\n",
       "      <td>USA</td>\n",
       "      <td>M</td>\n",
       "      <td>498</td>\n",
       "      <td>2</td>\n",
       "      <td>2017-07-14</td>\n",
       "      <td>GRP B</td>\n",
       "      <td>I</td>\n",
       "    </tr>\n",
       "    <tr>\n",
       "      <th>2</th>\n",
       "      <td>11128688</td>\n",
       "      <td>USA</td>\n",
       "      <td>F</td>\n",
       "      <td>2394</td>\n",
       "      <td>6</td>\n",
       "      <td>2017-09-17</td>\n",
       "      <td>GRP A</td>\n",
       "      <td>I</td>\n",
       "    </tr>\n",
       "  </tbody>\n",
       "</table>\n",
       "</div>"
      ],
      "text/plain": [
       "        uid country gender  spent  purchases        date  group device\n",
       "0  11115722     MEX      F   1595          5  2016-03-08  GRP B      I\n",
       "1  11122053     USA      M    498          2  2017-07-14  GRP B      I\n",
       "2  11128688     USA      F   2394          6  2017-09-17  GRP A      I"
      ]
     },
     "execution_count": 24,
     "metadata": {},
     "output_type": "execute_result"
    }
   ],
   "source": [
    "df0 = pd.read_csv(\"../data/ab_testing.csv\")\n",
    "df0.columns = df0.columns.str.lower()\n",
    "df0.select_dtypes(include = 'object') = df0.select_dtypes(include = 'object').apply(lambda x:x.str.lower())\n",
    "print( df0.shape )\n",
    "df0.head(3)"
   ]
  },
  {
   "cell_type": "code",
   "execution_count": null,
   "metadata": {},
   "outputs": [],
   "source": [
    "ddd"
   ]
  }
 ],
 "metadata": {
  "kernelspec": {
   "display_name": "ab_test_env",
   "language": "python",
   "name": "python3"
  },
  "language_info": {
   "codemirror_mode": {
    "name": "ipython",
    "version": 3
   },
   "file_extension": ".py",
   "mimetype": "text/x-python",
   "name": "python",
   "nbconvert_exporter": "python",
   "pygments_lexer": "ipython3",
   "version": "3.10.4 (tags/v3.10.4:9d38120, Mar 23 2022, 23:13:41) [MSC v.1929 64 bit (AMD64)]"
  },
  "toc-autonumbering": true,
  "toc-showmarkdowntxt": true,
  "toc-showtags": false,
  "vscode": {
   "interpreter": {
    "hash": "8b4758dddd00cf0f00a2c4c954ca74ee94baffc727ad65b741f3cadbb36089f2"
   }
  }
 },
 "nbformat": 4,
 "nbformat_minor": 4
}
